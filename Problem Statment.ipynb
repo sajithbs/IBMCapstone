{
    "cells": [
        {
            "cell_type": "markdown",
            "metadata": {
                "collapsed": true
            },
            "source": "## Predicting a good location to start a restaurant in Toronto"
        },
        {
            "cell_type": "markdown",
            "metadata": {},
            "source": "## 1.\tIntroduction"
        },
        {
            "cell_type": "markdown",
            "metadata": {},
            "source": "### 1.1 Background"
        },
        {
            "cell_type": "markdown",
            "metadata": {},
            "source": "Prospective investors and entrepreneurs consider a wide variety of factors when considering when and where to establish a business venture, like a new factory or restaurant. One such critical aspect of an exercise of this nature, is selecting a location, that is, often what type of community, city, state or even country to locate their business in. This capstone project hopes to make this process a little less burdensome and scientific, by providing a robust and grounded analytical framework through which one can better assess the costs and benefits of a location relative to each other."
        },
        {
            "cell_type": "markdown",
            "metadata": {},
            "source": "### 1.2 Problem Statement"
        },
        {
            "cell_type": "markdown",
            "metadata": {},
            "source": "The main premise of our research paper will center on investigating and determining the ideal locale in Toronto, Canada, for the establishment of a new dining experience, a restaurant targeting people whose are affluent. In this study, I endeavor to identify the right location by finding the right cluster of people and amenities, and lack of restaurants. "
        },
        {
            "cell_type": "markdown",
            "metadata": {},
            "source": "## 2.\tData Sourcing, Cleaning and Wrangling"
        },
        {
            "cell_type": "markdown",
            "metadata": {},
            "source": "The 140 neighborhoods used by the City of Toronto were developed to help government and community organizations with their local planning by providing socio-economic data at a meaningful geographic area. The boundaries of these social planning neighborhoods do not change over time, allowing researchers to examine changes over time.\nIn order to ensure high quality social data, the neighborhoods were defined based on Statistics Canada Census Tract boundaries. Census Tracts include several city blocks and have on average about 4,000 people. Neighborhoods are comprised of from 2 to 5 Census Tracts.\nAlong with relying on Python for statistical and data analysis, we leveraged the Foursquare API to obtain longitudinal and latitudinal values for location and venues around Toronto, which ultimately informed our analysis. Fair degree of cleaning and formatting was necessary on transform the data in a digestible and usable format.\n\nPostal codes are found using Wikipedia Link : https://en.wikipedia.org/wiki/List_of_postal_codes_of_Canada:_M, \n"
        },
        {
            "cell_type": "markdown",
            "metadata": {},
            "source": "## 3.\tMethodology"
        },
        {
            "cell_type": "markdown",
            "metadata": {},
            "source": "For this report we use map based of foursqure API that could help a new investor to decide the best neighborhood to open a restaurant in Toronto based on available competitors.\n\nThis problem is best suited for a classification methodology as opposed to a regression. Therefore, we employ the popular, somewhat simpler relative to other ML models available, but efficient and power, K-means Clustering in Python. Many clustering algorithms are available in Scikit-Learn but the simplest to understand is an algorithm known as k-means clustering, which is implemented in sklearn. cluster. KMeans.\n\nK-means clustering is a clustering algorithm that  aims  to  partition nn observations  into kk clusters. Primarily, there are 3 key steps to executing a k-means method, that is: Initialization \u2013 K initial \u201cmeans\u201d (centroids) are generated at random; next Assignment \u2013 K clusters are created by associating each observation with the nearest centroid, and finally Update \u2013 The centroid of the clusters becomes the new mean Assignment. This process continues, and Update are repeated iteratively until convergence, doesn\u2019t always happen, however.\n\nEssentially, we looked at the various locations around Toronto, ranked them based on their characteristic metric and assigned to a scored group 1-10 to each. Then they were later grouped into clusters of 5. Ultimately, the location or venue with the most ranked scores will be presumed to be the most advantageous location in which to locate the new business entity.\n"
        },
        {
            "cell_type": "code",
            "execution_count": null,
            "metadata": {},
            "outputs": [],
            "source": ""
        }
    ],
    "metadata": {
        "kernelspec": {
            "display_name": "Python 3.6",
            "language": "python",
            "name": "python3"
        },
        "language_info": {
            "codemirror_mode": {
                "name": "ipython",
                "version": 3
            },
            "file_extension": ".py",
            "mimetype": "text/x-python",
            "name": "python",
            "nbconvert_exporter": "python",
            "pygments_lexer": "ipython3",
            "version": "3.6.9"
        }
    },
    "nbformat": 4,
    "nbformat_minor": 1
}